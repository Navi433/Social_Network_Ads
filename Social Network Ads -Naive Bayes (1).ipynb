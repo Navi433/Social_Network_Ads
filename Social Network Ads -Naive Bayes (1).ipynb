{
 "cells": [
  {
   "cell_type": "markdown",
   "metadata": {},
   "source": [
    "# Social Network Ads"
   ]
  },
  {
   "cell_type": "code",
   "execution_count": 13,
   "metadata": {},
   "outputs": [],
   "source": [
    "import pandas as pd\n",
    "import numpy as np\n",
    "import matplotlib.pyplot as plt\n",
    "%matplotlib inline\n",
    "import seaborn as sns"
   ]
  },
  {
   "cell_type": "code",
   "execution_count": 177,
   "metadata": {},
   "outputs": [],
   "source": [
    "dataset=pd.read_csv('C:\\\\Users\\Admin\\Desktop\\\\Social_Network_Ads.csv',usecols=[1,2,3,4])"
   ]
  },
  {
   "cell_type": "code",
   "execution_count": 178,
   "metadata": {},
   "outputs": [
    {
     "data": {
      "text/html": [
       "<div>\n",
       "<style scoped>\n",
       "    .dataframe tbody tr th:only-of-type {\n",
       "        vertical-align: middle;\n",
       "    }\n",
       "\n",
       "    .dataframe tbody tr th {\n",
       "        vertical-align: top;\n",
       "    }\n",
       "\n",
       "    .dataframe thead th {\n",
       "        text-align: right;\n",
       "    }\n",
       "</style>\n",
       "<table border=\"1\" class=\"dataframe\">\n",
       "  <thead>\n",
       "    <tr style=\"text-align: right;\">\n",
       "      <th></th>\n",
       "      <th>Gender</th>\n",
       "      <th>Age</th>\n",
       "      <th>EstimatedSalary</th>\n",
       "      <th>Purchased</th>\n",
       "    </tr>\n",
       "  </thead>\n",
       "  <tbody>\n",
       "    <tr>\n",
       "      <th>0</th>\n",
       "      <td>Male</td>\n",
       "      <td>19</td>\n",
       "      <td>19000</td>\n",
       "      <td>0</td>\n",
       "    </tr>\n",
       "    <tr>\n",
       "      <th>1</th>\n",
       "      <td>Male</td>\n",
       "      <td>35</td>\n",
       "      <td>20000</td>\n",
       "      <td>0</td>\n",
       "    </tr>\n",
       "    <tr>\n",
       "      <th>2</th>\n",
       "      <td>Female</td>\n",
       "      <td>26</td>\n",
       "      <td>43000</td>\n",
       "      <td>0</td>\n",
       "    </tr>\n",
       "    <tr>\n",
       "      <th>3</th>\n",
       "      <td>Female</td>\n",
       "      <td>27</td>\n",
       "      <td>57000</td>\n",
       "      <td>0</td>\n",
       "    </tr>\n",
       "    <tr>\n",
       "      <th>4</th>\n",
       "      <td>Male</td>\n",
       "      <td>19</td>\n",
       "      <td>76000</td>\n",
       "      <td>0</td>\n",
       "    </tr>\n",
       "  </tbody>\n",
       "</table>\n",
       "</div>"
      ],
      "text/plain": [
       "   Gender  Age  EstimatedSalary  Purchased\n",
       "0    Male   19            19000          0\n",
       "1    Male   35            20000          0\n",
       "2  Female   26            43000          0\n",
       "3  Female   27            57000          0\n",
       "4    Male   19            76000          0"
      ]
     },
     "execution_count": 178,
     "metadata": {},
     "output_type": "execute_result"
    }
   ],
   "source": [
    "dataset.head()"
   ]
  },
  {
   "cell_type": "code",
   "execution_count": 179,
   "metadata": {},
   "outputs": [
    {
     "data": {
      "text/plain": [
       "Gender             0\n",
       "Age                0\n",
       "EstimatedSalary    0\n",
       "Purchased          0\n",
       "dtype: int64"
      ]
     },
     "execution_count": 179,
     "metadata": {},
     "output_type": "execute_result"
    }
   ],
   "source": [
    "dataset.isnull().sum()"
   ]
  },
  {
   "cell_type": "code",
   "execution_count": 180,
   "metadata": {},
   "outputs": [
    {
     "data": {
      "text/plain": [
       "(400, 4)"
      ]
     },
     "execution_count": 180,
     "metadata": {},
     "output_type": "execute_result"
    }
   ],
   "source": [
    "dataset.shape"
   ]
  },
  {
   "cell_type": "code",
   "execution_count": 181,
   "metadata": {},
   "outputs": [
    {
     "data": {
      "text/plain": [
       "<matplotlib.axes._subplots.AxesSubplot at 0x1a6ec04b6a0>"
      ]
     },
     "execution_count": 181,
     "metadata": {},
     "output_type": "execute_result"
    },
    {
     "data": {
      "image/png": "[encoded data removed]",
      "text/plain": [
       "<Figure size 432x288 with 1 Axes>"
      ]
     },
     "metadata": {
      "needs_background": "light"
     },
     "output_type": "display_data"
    }
   ],
   "source": [
    "sns.countplot(dataset.Gender,hue=dataset.Purchased)"
   ]
  },
  {
   "cell_type": "code",
   "execution_count": 182,
   "metadata": {},
   "outputs": [
    {
     "data": {
      "text/plain": [
       "(array([28., 37., 46., 35., 77., 65., 35., 31., 18., 28.]),\n",
       " array([18. , 22.2, 26.4, 30.6, 34.8, 39. , 43.2, 47.4, 51.6, 55.8, 60. ]),\n",
       " <a list of 10 Patch objects>)"
      ]
     },
     "execution_count": 182,
     "metadata": {},
     "output_type": "execute_result"
    },
    {
     "data": {
      "image/png": "[encoded data removed]",
      "text/plain": [
       "<Figure size 432x288 with 1 Axes>"
      ]
     },
     "metadata": {
      "needs_background": "light"
     },
     "output_type": "display_data"
    }
   ],
   "source": [
    "import warnings\n",
    "warnings.filterwarnings('ignore')\n",
    "plt.hist(dataset.Age,bins=10)\n"
   ]
  },
  {
   "cell_type": "code",
   "execution_count": 183,
   "metadata": {},
   "outputs": [],
   "source": [
    "concat=pd.get_dummies(dataset.Gender,drop_first=True)"
   ]
  },
  {
   "cell_type": "code",
   "execution_count": 184,
   "metadata": {},
   "outputs": [],
   "source": [
    "dataset=pd.concat([dataset,concat],axis=1)"
   ]
  },
  {
   "cell_type": "code",
   "execution_count": 87,
   "metadata": {},
   "outputs": [],
   "source": [
    "dataset.drop(['Gender'],axis=1,inplace=True)"
   ]
  },
  {
   "cell_type": "code",
   "execution_count": 88,
   "metadata": {},
   "outputs": [
    {
     "data": {
      "text/html": [
       "<div>\n",
       "<style scoped>\n",
       "    .dataframe tbody tr th:only-of-type {\n",
       "        vertical-align: middle;\n",
       "    }\n",
       "\n",
       "    .dataframe tbody tr th {\n",
       "        vertical-align: top;\n",
       "    }\n",
       "\n",
       "    .dataframe thead th {\n",
       "        text-align: right;\n",
       "    }\n",
       "</style>\n",
       "<table border=\"1\" class=\"dataframe\">\n",
       "  <thead>\n",
       "    <tr style=\"text-align: right;\">\n",
       "      <th></th>\n",
       "      <th>Age</th>\n",
       "      <th>EstimatedSalary</th>\n",
       "      <th>Purchased</th>\n",
       "      <th>Male</th>\n",
       "    </tr>\n",
       "  </thead>\n",
       "  <tbody>\n",
       "    <tr>\n",
       "      <th>0</th>\n",
       "      <td>19</td>\n",
       "      <td>19000</td>\n",
       "      <td>0</td>\n",
       "      <td>1</td>\n",
       "    </tr>\n",
       "    <tr>\n",
       "      <th>1</th>\n",
       "      <td>35</td>\n",
       "      <td>20000</td>\n",
       "      <td>0</td>\n",
       "      <td>1</td>\n",
       "    </tr>\n",
       "    <tr>\n",
       "      <th>2</th>\n",
       "      <td>26</td>\n",
       "      <td>43000</td>\n",
       "      <td>0</td>\n",
       "      <td>0</td>\n",
       "    </tr>\n",
       "    <tr>\n",
       "      <th>3</th>\n",
       "      <td>27</td>\n",
       "      <td>57000</td>\n",
       "      <td>0</td>\n",
       "      <td>0</td>\n",
       "    </tr>\n",
       "    <tr>\n",
       "      <th>4</th>\n",
       "      <td>19</td>\n",
       "      <td>76000</td>\n",
       "      <td>0</td>\n",
       "      <td>1</td>\n",
       "    </tr>\n",
       "  </tbody>\n",
       "</table>\n",
       "</div>"
      ],
      "text/plain": [
       "   Age  EstimatedSalary  Purchased  Male\n",
       "0   19            19000          0     1\n",
       "1   35            20000          0     1\n",
       "2   26            43000          0     0\n",
       "3   27            57000          0     0\n",
       "4   19            76000          0     1"
      ]
     },
     "execution_count": 88,
     "metadata": {},
     "output_type": "execute_result"
    }
   ],
   "source": [
    "dataset.head()"
   ]
  },
  {
   "cell_type": "code",
   "execution_count": 89,
   "metadata": {},
   "outputs": [],
   "source": [
    "X=dataset.iloc[:,0:2].values"
   ]
  },
  {
   "cell_type": "code",
   "execution_count": 90,
   "metadata": {},
   "outputs": [
    {
     "data": {
      "text/plain": [
       "array([[    19,  19000],\n",
       "       [    35,  20000],\n",
       "       [    26,  43000],\n",
       "       [    27,  57000],\n",
       "       [    19,  76000],\n",
       "       [    27,  58000],\n",
       "       [    27,  84000],\n",
       "       [    32, 150000],\n",
       "       [    25,  33000],\n",
       "       [    35,  65000],\n",
       "       [    26,  80000],\n",
       "       [    26,  52000],\n",
       "       [    20,  86000],\n",
       "       [    32,  18000],\n",
       "       [    18,  82000],\n",
       "       [    29,  80000],\n",
       "       [    47,  25000],\n",
       "       [    45,  26000],\n",
       "       [    46,  28000],\n",
       "       [    48,  29000],\n",
       "       [    45,  22000],\n",
       "       [    47,  49000],\n",
       "       [    48,  41000],\n",
       "       [    45,  22000],\n",
       "       [    46,  23000],\n",
       "       [    47,  20000],\n",
       "       [    49,  28000],\n",
       "       [    47,  30000],\n",
       "       [    29,  43000],\n",
       "       [    31,  18000],\n",
       "       [    31,  74000],\n",
       "       [    27, 137000],\n",
       "       [    21,  16000],\n",
       "       [    28,  44000],\n",
       "       [    27,  90000],\n",
       "       [    35,  27000],\n",
       "       [    33,  28000],\n",
       "       [    30,  49000],\n",
       "       [    26,  72000],\n",
       "       [    27,  31000],\n",
       "       [    27,  17000],\n",
       "       [    33,  51000],\n",
       "       [    35, 108000],\n",
       "       [    30,  15000],\n",
       "       [    28,  84000],\n",
       "       [    23,  20000],\n",
       "       [    25,  79000],\n",
       "       [    27,  54000],\n",
       "       [    30, 135000],\n",
       "       [    31,  89000],\n",
       "       [    24,  32000],\n",
       "       [    18,  44000],\n",
       "       [    29,  83000],\n",
       "       [    35,  23000],\n",
       "       [    27,  58000],\n",
       "       [    24,  55000],\n",
       "       [    23,  48000],\n",
       "       [    28,  79000],\n",
       "       [    22,  18000],\n",
       "       [    32, 117000],\n",
       "       [    27,  20000],\n",
       "       [    25,  87000],\n",
       "       [    23,  66000],\n",
       "       [    32, 120000],\n",
       "       [    59,  83000],\n",
       "       [    24,  58000],\n",
       "       [    24,  19000],\n",
       "       [    23,  82000],\n",
       "       [    22,  63000],\n",
       "       [    31,  68000],\n",
       "       [    25,  80000],\n",
       "       [    24,  27000],\n",
       "       [    20,  23000],\n",
       "       [    33, 113000],\n",
       "       [    32,  18000],\n",
       "       [    34, 112000],\n",
       "       [    18,  52000],\n",
       "       [    22,  27000],\n",
       "       [    28,  87000],\n",
       "       [    26,  17000],\n",
       "       [    30,  80000],\n",
       "       [    39,  42000],\n",
       "       [    20,  49000],\n",
       "       [    35,  88000],\n",
       "       [    30,  62000],\n",
       "       [    31, 118000],\n",
       "       [    24,  55000],\n",
       "       [    28,  85000],\n",
       "       [    26,  81000],\n",
       "       [    35,  50000],\n",
       "       [    22,  81000],\n",
       "       [    30, 116000],\n",
       "       [    26,  15000],\n",
       "       [    29,  28000],\n",
       "       [    29,  83000],\n",
       "       [    35,  44000],\n",
       "       [    35,  25000],\n",
       "       [    28, 123000],\n",
       "       [    35,  73000],\n",
       "       [    28,  37000],\n",
       "       [    27,  88000],\n",
       "       [    28,  59000],\n",
       "       [    32,  86000],\n",
       "       [    33, 149000],\n",
       "       [    19,  21000],\n",
       "       [    21,  72000],\n",
       "       [    26,  35000],\n",
       "       [    27,  89000],\n",
       "       [    26,  86000],\n",
       "       [    38,  80000],\n",
       "       [    39,  71000],\n",
       "       [    37,  71000],\n",
       "       [    38,  61000],\n",
       "       [    37,  55000],\n",
       "       [    42,  80000],\n",
       "       [    40,  57000],\n",
       "       [    35,  75000],\n",
       "       [    36,  52000],\n",
       "       [    40,  59000],\n",
       "       [    41,  59000],\n",
       "       [    36,  75000],\n",
       "       [    37,  72000],\n",
       "       [    40,  75000],\n",
       "       [    35,  53000],\n",
       "       [    41,  51000],\n",
       "       [    39,  61000],\n",
       "       [    42,  65000],\n",
       "       [    26,  32000],\n",
       "       [    30,  17000],\n",
       "       [    26,  84000],\n",
       "       [    31,  58000],\n",
       "       [    33,  31000],\n",
       "       [    30,  87000],\n",
       "       [    21,  68000],\n",
       "       [    28,  55000],\n",
       "       [    23,  63000],\n",
       "       [    20,  82000],\n",
       "       [    30, 107000],\n",
       "       [    28,  59000],\n",
       "       [    19,  25000],\n",
       "       [    19,  85000],\n",
       "       [    18,  68000],\n",
       "       [    35,  59000],\n",
       "       [    30,  89000],\n",
       "       [    34,  25000],\n",
       "       [    24,  89000],\n",
       "       [    27,  96000],\n",
       "       [    41,  30000],\n",
       "       [    29,  61000],\n",
       "       [    20,  74000],\n",
       "       [    26,  15000],\n",
       "       [    41,  45000],\n",
       "       [    31,  76000],\n",
       "       [    36,  50000],\n",
       "       [    40,  47000],\n",
       "       [    31,  15000],\n",
       "       [    46,  59000],\n",
       "       [    29,  75000],\n",
       "       [    26,  30000],\n",
       "       [    32, 135000],\n",
       "       [    32, 100000],\n",
       "       [    25,  90000],\n",
       "       [    37,  33000],\n",
       "       [    35,  38000],\n",
       "       [    33,  69000],\n",
       "       [    18,  86000],\n",
       "       [    22,  55000],\n",
       "       [    35,  71000],\n",
       "       [    29, 148000],\n",
       "       [    29,  47000],\n",
       "       [    21,  88000],\n",
       "       [    34, 115000],\n",
       "       [    26, 118000],\n",
       "       [    34,  43000],\n",
       "       [    34,  72000],\n",
       "       [    23,  28000],\n",
       "       [    35,  47000],\n",
       "       [    25,  22000],\n",
       "       [    24,  23000],\n",
       "       [    31,  34000],\n",
       "       [    26,  16000],\n",
       "       [    31,  71000],\n",
       "       [    32, 117000],\n",
       "       [    33,  43000],\n",
       "       [    33,  60000],\n",
       "       [    31,  66000],\n",
       "       [    20,  82000],\n",
       "       [    33,  41000],\n",
       "       [    35,  72000],\n",
       "       [    28,  32000],\n",
       "       [    24,  84000],\n",
       "       [    19,  26000],\n",
       "       [    29,  43000],\n",
       "       [    19,  70000],\n",
       "       [    28,  89000],\n",
       "       [    34,  43000],\n",
       "       [    30,  79000],\n",
       "       [    20,  36000],\n",
       "       [    26,  80000],\n",
       "       [    35,  22000],\n",
       "       [    35,  39000],\n",
       "       [    49,  74000],\n",
       "       [    39, 134000],\n",
       "       [    41,  71000],\n",
       "       [    58, 101000],\n",
       "       [    47,  47000],\n",
       "       [    55, 130000],\n",
       "       [    52, 114000],\n",
       "       [    40, 142000],\n",
       "       [    46,  22000],\n",
       "       [    48,  96000],\n",
       "       [    52, 150000],\n",
       "       [    59,  42000],\n",
       "       [    35,  58000],\n",
       "       [    47,  43000],\n",
       "       [    60, 108000],\n",
       "       [    49,  65000],\n",
       "       [    40,  78000],\n",
       "       [    46,  96000],\n",
       "       [    59, 143000],\n",
       "       [    41,  80000],\n",
       "       [    35,  91000],\n",
       "       [    37, 144000],\n",
       "       [    60, 102000],\n",
       "       [    35,  60000],\n",
       "       [    37,  53000],\n",
       "       [    36, 126000],\n",
       "       [    56, 133000],\n",
       "       [    40,  72000],\n",
       "       [    42,  80000],\n",
       "       [    35, 147000],\n",
       "       [    39,  42000],\n",
       "       [    40, 107000],\n",
       "       [    49,  86000],\n",
       "       [    38, 112000],\n",
       "       [    46,  79000],\n",
       "       [    40,  57000],\n",
       "       [    37,  80000],\n",
       "       [    46,  82000],\n",
       "       [    53, 143000],\n",
       "       [    42, 149000],\n",
       "       [    38,  59000],\n",
       "       [    50,  88000],\n",
       "       [    56, 104000],\n",
       "       [    41,  72000],\n",
       "       [    51, 146000],\n",
       "       [    35,  50000],\n",
       "       [    57, 122000],\n",
       "       [    41,  52000],\n",
       "       [    35,  97000],\n",
       "       [    44,  39000],\n",
       "       [    37,  52000],\n",
       "       [    48, 134000],\n",
       "       [    37, 146000],\n",
       "       [    50,  44000],\n",
       "       [    52,  90000],\n",
       "       [    41,  72000],\n",
       "       [    40,  57000],\n",
       "       [    58,  95000],\n",
       "       [    45, 131000],\n",
       "       [    35,  77000],\n",
       "       [    36, 144000],\n",
       "       [    55, 125000],\n",
       "       [    35,  72000],\n",
       "       [    48,  90000],\n",
       "       [    42, 108000],\n",
       "       [    40,  75000],\n",
       "       [    37,  74000],\n",
       "       [    47, 144000],\n",
       "       [    40,  61000],\n",
       "       [    43, 133000],\n",
       "       [    59,  76000],\n",
       "       [    60,  42000],\n",
       "       [    39, 106000],\n",
       "       [    57,  26000],\n",
       "       [    57,  74000],\n",
       "       [    38,  71000],\n",
       "       [    49,  88000],\n",
       "       [    52,  38000],\n",
       "       [    50,  36000],\n",
       "       [    59,  88000],\n",
       "       [    35,  61000],\n",
       "       [    37,  70000],\n",
       "       [    52,  21000],\n",
       "       [    48, 141000],\n",
       "       [    37,  93000],\n",
       "       [    37,  62000],\n",
       "       [    48, 138000],\n",
       "       [    41,  79000],\n",
       "       [    37,  78000],\n",
       "       [    39, 134000],\n",
       "       [    49,  89000],\n",
       "       [    55,  39000],\n",
       "       [    37,  77000],\n",
       "       [    35,  57000],\n",
       "       [    36,  63000],\n",
       "       [    42,  73000],\n",
       "       [    43, 112000],\n",
       "       [    45,  79000],\n",
       "       [    46, 117000],\n",
       "       [    58,  38000],\n",
       "       [    48,  74000],\n",
       "       [    37, 137000],\n",
       "       [    37,  79000],\n",
       "       [    40,  60000],\n",
       "       [    42,  54000],\n",
       "       [    51, 134000],\n",
       "       [    47, 113000],\n",
       "       [    36, 125000],\n",
       "       [    38,  50000],\n",
       "       [    42,  70000],\n",
       "       [    39,  96000],\n",
       "       [    38,  50000],\n",
       "       [    49, 141000],\n",
       "       [    39,  79000],\n",
       "       [    39,  75000],\n",
       "       [    54, 104000],\n",
       "       [    35,  55000],\n",
       "       [    45,  32000],\n",
       "       [    36,  60000],\n",
       "       [    52, 138000],\n",
       "       [    53,  82000],\n",
       "       [    41,  52000],\n",
       "       [    48,  30000],\n",
       "       [    48, 131000],\n",
       "       [    41,  60000],\n",
       "       [    41,  72000],\n",
       "       [    42,  75000],\n",
       "       [    36, 118000],\n",
       "       [    47, 107000],\n",
       "       [    38,  51000],\n",
       "       [    48, 119000],\n",
       "       [    42,  65000],\n",
       "       [    40,  65000],\n",
       "       [    57,  60000],\n",
       "       [    36,  54000],\n",
       "       [    58, 144000],\n",
       "       [    35,  79000],\n",
       "       [    38,  55000],\n",
       "       [    39, 122000],\n",
       "       [    53, 104000],\n",
       "       [    35,  75000],\n",
       "       [    38,  65000],\n",
       "       [    47,  51000],\n",
       "       [    47, 105000],\n",
       "       [    41,  63000],\n",
       "       [    53,  72000],\n",
       "       [    54, 108000],\n",
       "       [    39,  77000],\n",
       "       [    38,  61000],\n",
       "       [    38, 113000],\n",
       "       [    37,  75000],\n",
       "       [    42,  90000],\n",
       "       [    37,  57000],\n",
       "       [    36,  99000],\n",
       "       [    60,  34000],\n",
       "       [    54,  70000],\n",
       "       [    41,  72000],\n",
       "       [    40,  71000],\n",
       "       [    42,  54000],\n",
       "       [    43, 129000],\n",
       "       [    53,  34000],\n",
       "       [    47,  50000],\n",
       "       [    42,  79000],\n",
       "       [    42, 104000],\n",
       "       [    59,  29000],\n",
       "       [    58,  47000],\n",
       "       [    46,  88000],\n",
       "       [    38,  71000],\n",
       "       [    54,  26000],\n",
       "       [    60,  46000],\n",
       "       [    60,  83000],\n",
       "       [    39,  73000],\n",
       "       [    59, 130000],\n",
       "       [    37,  80000],\n",
       "       [    46,  32000],\n",
       "       [    46,  74000],\n",
       "       [    42,  53000],\n",
       "       [    41,  87000],\n",
       "       [    58,  23000],\n",
       "       [    42,  64000],\n",
       "       [    48,  33000],\n",
       "       [    44, 139000],\n",
       "       [    49,  28000],\n",
       "       [    57,  33000],\n",
       "       [    56,  60000],\n",
       "       [    49,  39000],\n",
       "       [    39,  71000],\n",
       "       [    47,  34000],\n",
       "       [    48,  35000],\n",
       "       [    48,  33000],\n",
       "       [    47,  23000],\n",
       "       [    45,  45000],\n",
       "       [    60,  42000],\n",
       "       [    39,  59000],\n",
       "       [    46,  41000],\n",
       "       [    51,  23000],\n",
       "       [    50,  20000],\n",
       "       [    36,  33000],\n",
       "       [    49,  36000]], dtype=int64)"
      ]
     },
     "execution_count": 90,
     "metadata": {},
     "output_type": "execute_result"
    }
   ],
   "source": [
    "X"
   ]
  },
  {
   "cell_type": "code",
   "execution_count": 152,
   "metadata": {},
   "outputs": [
    {
     "data": {
      "text/plain": [
       "360"
      ]
     },
     "execution_count": 152,
     "metadata": {},
     "output_type": "execute_result"
    }
   ],
   "source": [
    "len(X_train)"
   ]
  },
  {
   "cell_type": "code",
   "execution_count": 91,
   "metadata": {},
   "outputs": [],
   "source": [
    "y=dataset.iloc[:,3].values"
   ]
  },
  {
   "cell_type": "code",
   "execution_count": 153,
   "metadata": {},
   "outputs": [
    {
     "data": {
      "text/plain": [
       "array([1, 1, 0, 0, 1, 1, 0, 0, 1, 0, 0, 0, 1, 1, 1, 1, 1, 1, 1, 0, 1, 0,\n",
       "       1, 0, 1, 1, 1, 0, 1, 1, 1, 0, 0, 0, 1, 1, 0, 1, 0, 0, 0, 0, 1, 1,\n",
       "       0, 1, 1, 0, 1, 0, 0, 0, 0, 0, 0, 0, 0, 1, 1, 0, 1, 1, 0, 1, 0, 1,\n",
       "       1, 0, 0, 0, 1, 0, 0, 0, 1, 1, 1, 0, 0, 0, 1, 1, 1, 1, 0, 0, 1, 0,\n",
       "       1, 1, 1, 0, 1, 0, 0, 0, 0, 1, 1, 0, 1, 1, 0, 0, 0, 1, 0, 1, 1, 0,\n",
       "       0, 0, 1, 1, 1, 1, 1, 1, 1, 1, 0, 1, 0, 1, 0, 0, 1, 1, 1, 0, 1, 1,\n",
       "       1, 0, 0, 1, 0, 1, 0, 1, 1, 0, 1, 1, 0, 0, 0, 0, 1, 1, 0, 1, 1, 0,\n",
       "       1, 0, 1, 1, 1, 0, 1, 1, 0, 1, 0, 0, 0, 0, 1, 0, 1, 1, 0, 0, 0, 0,\n",
       "       0, 1, 1, 0, 1, 0, 0, 1, 0, 1, 0, 0, 1, 1, 1, 0, 1, 1, 1, 1, 0, 0,\n",
       "       1, 1, 1, 1, 0, 0, 0, 0, 0, 0, 0, 0, 0, 1, 0, 1, 1, 0, 1, 1, 0, 1,\n",
       "       0, 1, 1, 1, 0, 1, 0, 1, 0, 0, 0, 1, 1, 1, 0, 1, 1, 0, 0, 0, 1, 1,\n",
       "       0, 0, 0, 0, 0, 0, 1, 0, 0, 1, 0, 0, 0, 0, 0, 1, 0, 0, 0, 1, 0, 0,\n",
       "       1, 0, 1, 1, 0, 1, 0, 0, 1, 1, 0, 1, 1, 1, 0, 0, 0, 1, 1, 0, 1, 0,\n",
       "       0, 0, 1, 0, 1, 1, 1, 1, 0, 0, 1, 0, 1, 1, 0, 1, 0, 1, 0, 1, 0, 0,\n",
       "       1, 0, 0, 1, 0, 0, 0, 0, 0, 1, 1, 1, 0, 0, 1, 0, 0, 0, 1, 0, 1, 0,\n",
       "       1, 0, 1, 1, 1, 0, 1, 1, 0, 1, 0, 1, 0, 0, 1, 0, 1, 0, 1, 1, 0, 1,\n",
       "       0, 0, 1, 1, 1, 0, 1, 1, 1, 0, 0, 0, 1, 0, 0, 1, 1, 0, 0, 1, 0, 1,\n",
       "       0, 0, 0, 0, 1, 0, 1, 1, 0, 1, 0, 1, 0, 1, 1, 0, 1, 1, 0, 1, 0, 0,\n",
       "       1, 0, 1, 0], dtype=uint8)"
      ]
     },
     "execution_count": 153,
     "metadata": {},
     "output_type": "execute_result"
    }
   ],
   "source": [
    "y"
   ]
  },
  {
   "cell_type": "code",
   "execution_count": 154,
   "metadata": {},
   "outputs": [],
   "source": [
    "#Splitting the data into train and test set"
   ]
  },
  {
   "cell_type": "code",
   "execution_count": 155,
   "metadata": {},
   "outputs": [],
   "source": [
    "from sklearn.model_selection import train_test_split"
   ]
  },
  {
   "cell_type": "code",
   "execution_count": 156,
   "metadata": {},
   "outputs": [],
   "source": [
    "X_train, X_test, y_train, y_test = train_test_split( X, y, test_size=0.10, random_state=0)"
   ]
  },
  {
   "cell_type": "code",
   "execution_count": 157,
   "metadata": {},
   "outputs": [],
   "source": [
    "from sklearn.preprocessing import StandardScaler"
   ]
  },
  {
   "cell_type": "code",
   "execution_count": 158,
   "metadata": {},
   "outputs": [],
   "source": [
    "sc=StandardScaler()"
   ]
  },
  {
   "cell_type": "code",
   "execution_count": 159,
   "metadata": {},
   "outputs": [],
   "source": [
    "X_train=sc.fit_transform(X_train)\n",
    "X_test=sc.fit_transform(X_test)"
   ]
  },
  {
   "cell_type": "code",
   "execution_count": 160,
   "metadata": {},
   "outputs": [
    {
     "data": {
      "text/plain": [
       "array([[-1.05714987,  0.53420426],\n",
       "       [ 0.2798728 , -0.51764734],\n",
       "       [-1.05714987,  0.41733186],\n",
       "       [-0.29313691, -1.45262654],\n",
       "       [ 0.47087604,  1.23543867],\n",
       "       [-1.05714987, -0.34233874],\n",
       "       [-0.10213368,  0.30045946],\n",
       "       [ 1.33039061,  0.59264046],\n",
       "       [-1.15265148, -1.16044554],\n",
       "       [ 1.04388575,  0.47576806],\n",
       "       [ 1.8078987 ,  1.52761967],\n",
       "       [-0.38863853, -1.30653604],\n",
       "       [-0.29313691, -0.37155684],\n",
       "       [-0.38863853,  1.32309297],\n",
       "       [ 1.99890194,  0.53420426],\n",
       "       [ 0.66187928, -1.10200934],\n",
       "       [-0.86614663,  0.38811376],\n",
       "       [-1.15265148,  0.30045946],\n",
       "       [ 1.04388575, -1.21888174],\n",
       "       [-1.43915634, -1.45262654],\n",
       "       [-0.57964177, -1.51106275],\n",
       "       [ 2.09440356, -0.80982834],\n",
       "       [-1.82116282,  0.18358706],\n",
       "       [-0.19763529,  0.85560337],\n",
       "       [-1.82116282, -1.27731794],\n",
       "       [ 2.09440356,  0.38811376],\n",
       "       [-1.34365472,  0.56342236],\n",
       "       [-1.05714987, -0.34233874],\n",
       "       [ 0.18437118, -0.66373784],\n",
       "       [ 0.37537442,  0.00827846],\n",
       "       [-0.57964177,  2.34572647],\n",
       "       [-0.29313691,  0.21280516],\n",
       "       [-1.53465796, -0.19624824],\n",
       "       [ 0.66187928, -1.39419034],\n",
       "       [-1.05714987,  0.56342236],\n",
       "       [-1.91666444,  0.35889566],\n",
       "       [ 0.37537442,  0.27124136],\n",
       "       [ 0.18437118, -0.28390254],\n",
       "       [ 1.42589223, -1.04357314],\n",
       "       [ 0.85288251,  1.08934817],\n",
       "       [ 1.90340032,  2.17041787],\n",
       "       [ 1.99890194,  0.38811376],\n",
       "       [-1.34365472, -0.42999304],\n",
       "       [-1.15265148, -1.01435504],\n",
       "       [ 1.90340032, -0.92670074],\n",
       "       [ 0.37537442,  0.30045946],\n",
       "       [ 0.18437118,  0.15436896],\n",
       "       [ 1.99890194,  1.76136447],\n",
       "       [ 0.75738089, -0.83904644],\n",
       "       [ 0.2798728 , -0.28390254],\n",
       "       [ 0.37537442, -0.16703014],\n",
       "       [-0.10213368,  2.22885407],\n",
       "       [-1.43915634, -0.63451974],\n",
       "       [-1.2481531 , -1.07279124],\n",
       "       [-1.34365472,  0.41733186],\n",
       "       [-1.05714987,  0.76794907],\n",
       "       [-1.43915634, -0.19624824],\n",
       "       [ 0.94838413, -1.07279124],\n",
       "       [ 0.94838413,  0.59264046],\n",
       "       [ 0.37537442,  1.00169387],\n",
       "       [ 0.56637766, -0.89748264],\n",
       "       [-0.57964177,  1.46918347],\n",
       "       [-0.00663206, -0.57608354],\n",
       "       [-0.57964177,  1.90745497],\n",
       "       [ 1.33039061, -1.42340844],\n",
       "       [ 1.42589223,  1.00169387],\n",
       "       [ 0.08886956, -0.80982834],\n",
       "       [-0.00663206, -0.25468444],\n",
       "       [-0.19763529, -0.57608354],\n",
       "       [-0.19763529, -0.19624824],\n",
       "       [-0.29313691, -1.30653604],\n",
       "       [-0.29313691, -0.57608354],\n",
       "       [ 0.37537442,  0.09593276],\n",
       "       [ 0.85288251, -0.60530164],\n",
       "       [ 1.99890194, -1.18966364],\n",
       "       [ 1.04388575, -0.13781204],\n",
       "       [ 0.66187928,  1.79058257],\n",
       "       [-0.67514339,  0.56342236],\n",
       "       [ 0.75738089,  0.35889566],\n",
       "       [ 0.85288251, -0.54686544],\n",
       "       [-1.15265148, -1.59871705],\n",
       "       [ 2.09440356,  0.94325767],\n",
       "       [-0.00663206,  1.23543867],\n",
       "       [ 0.18437118,  1.08934817],\n",
       "       [ 0.37537442, -0.48842924],\n",
       "       [-0.29313691, -0.31312064],\n",
       "       [ 0.94838413, -0.83904644],\n",
       "       [ 0.94838413,  1.87823687],\n",
       "       [-0.00663206,  1.26465677],\n",
       "       [-0.86614663,  2.28729027],\n",
       "       [-1.15265148, -1.59871705],\n",
       "       [ 2.09440356, -0.80982834],\n",
       "       [-1.34365472, -1.48184464],\n",
       "       [ 0.37537442,  2.31650837],\n",
       "       [ 0.75738089,  0.76794907],\n",
       "       [-0.96164825, -0.31312064],\n",
       "       [ 0.08886956,  0.76794907],\n",
       "       [-0.96164825,  0.56342236],\n",
       "       [ 0.2798728 ,  0.06671466],\n",
       "       [ 0.66187928, -1.27731794],\n",
       "       [-0.48414015, -0.02093964],\n",
       "       [-1.7256612 ,  0.35889566],\n",
       "       [-0.67514339,  0.12515086],\n",
       "       [ 0.37537442,  0.30045946],\n",
       "       [-0.29313691,  0.06671466],\n",
       "       [-0.48414015,  2.31650837],\n",
       "       [ 0.18437118,  0.03749656],\n",
       "       [ 1.23488899,  2.22885407],\n",
       "       [ 0.75738089,  0.27124136],\n",
       "       [-0.29313691,  0.15436896],\n",
       "       [-0.00663206, -0.54686544],\n",
       "       [-0.19763529,  0.15436896],\n",
       "       [-0.10213368,  0.24202326],\n",
       "       [-0.00663206, -0.25468444],\n",
       "       [ 2.09440356,  1.11856627],\n",
       "       [-1.7256612 ,  0.35889566],\n",
       "       [ 1.8078987 ,  0.12515086],\n",
       "       [ 0.37537442, -0.13781204],\n",
       "       [-1.15265148,  0.30045946],\n",
       "       [ 0.75738089,  1.38152917],\n",
       "       [-0.29313691, -0.25468444],\n",
       "       [-1.63015958, -0.05015774],\n",
       "       [-0.96164825, -0.75139214],\n",
       "       [ 0.2798728 ,  0.50498616],\n",
       "       [-0.10213368, -1.07279124],\n",
       "       [-1.05714987,  0.59264046],\n",
       "       [ 0.08886956, -0.80982834],\n",
       "       [-0.96164825,  1.55683777],\n",
       "       [-0.67514339,  1.41074727],\n",
       "       [-1.2481531 ,  0.50498616],\n",
       "       [-0.29313691,  0.03749656],\n",
       "       [-0.10213368,  0.00827846],\n",
       "       [-0.29313691, -0.89748264],\n",
       "       [ 0.85288251, -1.36497224],\n",
       "       [-0.29313691,  2.25807217],\n",
       "       [ 0.94838413,  1.99510927],\n",
       "       [-1.15265148,  0.47576806],\n",
       "       [-1.2481531 ,  0.27124136],\n",
       "       [ 1.33039061,  1.99510927],\n",
       "       [ 1.23488899, -1.36497224],\n",
       "       [-0.29313691, -0.28390254],\n",
       "       [-0.48414015,  1.26465677],\n",
       "       [-0.77064501,  1.08934817],\n",
       "       [ 0.94838413, -1.07279124],\n",
       "       [ 0.2798728 ,  0.30045946],\n",
       "       [ 0.94838413,  0.76794907],\n",
       "       [-0.67514339, -1.51106275],\n",
       "       [-0.67514339,  0.03749656],\n",
       "       [ 0.47087604,  1.73214637],\n",
       "       [ 1.99890194,  0.18358706],\n",
       "       [-1.91666444, -0.75139214],\n",
       "       [-0.19763529,  1.41074727],\n",
       "       [ 0.37537442,  0.59264046],\n",
       "       [ 0.85288251, -1.16044554],\n",
       "       [-1.15265148, -0.78061024],\n",
       "       [ 0.18437118,  0.24202326],\n",
       "       [ 0.75738089, -0.31312064],\n",
       "       [ 1.99890194, -0.80982834],\n",
       "       [ 0.75738089,  0.12515086],\n",
       "       [-0.29313691,  0.62185856],\n",
       "       [-0.96164825, -0.31312064],\n",
       "       [ 0.18437118, -0.37155684],\n",
       "       [ 1.99890194,  2.14119977],\n",
       "       [ 1.8078987 , -1.27731794],\n",
       "       [ 1.33039061, -0.92670074],\n",
       "       [ 0.85288251,  1.26465677],\n",
       "       [ 1.42589223,  2.14119977],\n",
       "       [-0.29313691, -1.24809984],\n",
       "       [ 1.90340032,  0.91403957],\n",
       "       [ 0.66187928, -0.72217404],\n",
       "       [-1.43915634,  0.35889566],\n",
       "       [ 0.75738089, -1.36497224],\n",
       "       [ 0.37537442, -0.13781204],\n",
       "       [-0.96164825,  0.41733186],\n",
       "       [-0.00663206, -0.31312064],\n",
       "       [-1.15265148,  0.41733186],\n",
       "       [-0.86614663, -1.21888174],\n",
       "       [-0.10213368,  0.03749656],\n",
       "       [-1.53465796, -0.42999304],\n",
       "       [ 0.94838413, -1.01435504],\n",
       "       [ 1.04388575, -1.21888174],\n",
       "       [-0.00663206, -0.13781204],\n",
       "       [-1.05714987, -1.54028085],\n",
       "       [ 0.75738089, -1.21888174],\n",
       "       [ 0.94838413,  2.08276357],\n",
       "       [-1.15265148, -1.54028085],\n",
       "       [-0.29313691,  0.79716717],\n",
       "       [ 0.08886956, -0.31312064],\n",
       "       [-1.34365472, -1.24809984],\n",
       "       [-0.57964177, -1.51106275],\n",
       "       [ 0.75738089,  0.53420426],\n",
       "       [-0.29313691, -0.34233874],\n",
       "       [ 1.71239708, -0.28390254],\n",
       "       [ 0.85288251, -1.04357314],\n",
       "       [ 0.18437118,  0.06671466],\n",
       "       [-0.57964177,  0.88482147],\n",
       "       [-1.82116282, -1.42340844],\n",
       "       [-1.2481531 ,  0.59264046],\n",
       "       [-0.29313691,  0.53420426],\n",
       "       [-0.96164825, -1.10200934],\n",
       "       [ 1.13938737, -1.45262654],\n",
       "       [ 0.18437118, -0.31312064],\n",
       "       [ 1.13938737, -0.75139214],\n",
       "       [-0.29313691,  0.06671466],\n",
       "       [ 0.18437118,  2.11198167],\n",
       "       [ 0.75738089, -1.10200934],\n",
       "       [ 0.08886956,  0.03749656],\n",
       "       [-1.7256612 ,  0.12515086],\n",
       "       [-0.86614663,  0.15436896],\n",
       "       [-0.67514339,  0.18358706],\n",
       "       [ 0.85288251, -1.30653604],\n",
       "       [ 0.18437118, -0.25468444],\n",
       "       [-0.38863853,  1.23543867],\n",
       "       [-0.00663206,  0.30045946],\n",
       "       [ 0.37537442,  0.15436896],\n",
       "       [ 0.85288251, -0.66373784],\n",
       "       [ 0.08886956,  0.15436896],\n",
       "       [-1.82116282, -1.30653604],\n",
       "       [-0.10213368,  0.30045946],\n",
       "       [-0.19763529, -0.28390254],\n",
       "       [ 0.2798728 , -0.51764734],\n",
       "       [-0.19763529,  1.61527397],\n",
       "       [ 0.94838413, -1.18966364],\n",
       "       [-0.19763529,  1.64449207],\n",
       "       [ 1.23488899,  1.87823687],\n",
       "       [-1.05714987, -0.37155684],\n",
       "       [-0.00663206,  0.03749656],\n",
       "       [ 0.08886956, -0.25468444],\n",
       "       [-1.53465796, -1.24809984],\n",
       "       [-0.48414015, -0.28390254],\n",
       "       [ 0.94838413,  0.12515086],\n",
       "       [ 1.90340032, -1.36497224],\n",
       "       [ 1.42589223,  0.06671466],\n",
       "       [-0.57964177,  1.38152917],\n",
       "       [ 1.52139385,  0.00827846],\n",
       "       [-0.77064501,  0.30045946],\n",
       "       [ 1.90340032,  0.73873096],\n",
       "       [-1.15265148, -0.51764734],\n",
       "       [ 0.66187928,  0.27124136],\n",
       "       [-1.34365472, -0.42999304],\n",
       "       [ 0.18437118,  0.15436896],\n",
       "       [-0.48414015, -1.21888174],\n",
       "       [ 0.56637766,  2.02432737],\n",
       "       [-1.53465796, -1.51106275],\n",
       "       [-0.48414015, -0.54686544],\n",
       "       [ 0.47087604,  1.84901877],\n",
       "       [-1.34365472, -1.10200934],\n",
       "       [ 0.75738089, -1.39419034],\n",
       "       [-0.29313691, -0.42999304],\n",
       "       [ 1.52139385,  1.00169387],\n",
       "       [ 0.94838413,  1.43996537],\n",
       "       [-0.29313691, -0.48842924],\n",
       "       [-0.10213368,  2.17041787],\n",
       "       [-1.43915634, -0.10859394],\n",
       "       [-0.10213368,  1.96589117],\n",
       "       [-0.67514339, -0.34233874],\n",
       "       [-0.48414015, -0.83904644],\n",
       "       [ 0.66187928, -1.39419034],\n",
       "       [-0.77064501, -1.59871705],\n",
       "       [-1.82116282, -1.48184464],\n",
       "       [ 1.04388575,  0.12515086],\n",
       "       [ 0.08886956,  1.52761967],\n",
       "       [-0.29313691,  0.09593276],\n",
       "       [ 0.08886956,  0.03749656],\n",
       "       [-1.34365472, -1.36497224],\n",
       "       [ 0.2798728 ,  0.06671466],\n",
       "       [-0.86614663,  0.38811376],\n",
       "       [ 1.52139385, -1.27731794],\n",
       "       [-0.29313691, -0.75139214],\n",
       "       [-0.10213368,  0.15436896],\n",
       "       [-0.86614663, -0.66373784],\n",
       "       [-0.67514339, -0.05015774],\n",
       "       [ 0.37537442, -0.45921114],\n",
       "       [-0.77064501,  1.90745497],\n",
       "       [ 1.33039061,  1.29387487],\n",
       "       [ 1.13938737, -0.98513694],\n",
       "       [ 1.71239708,  1.84901877],\n",
       "       [-0.86614663, -0.25468444],\n",
       "       [-0.77064501,  0.56342236],\n",
       "       [-1.15265148, -1.56949895],\n",
       "       [-0.48414015, -1.13122744],\n",
       "       [ 0.2798728 ,  0.06671466],\n",
       "       [-0.19763529, -1.07279124],\n",
       "       [ 1.61689547,  1.61527397],\n",
       "       [ 0.94838413,  1.79058257],\n",
       "       [ 0.2798728 ,  0.03749656],\n",
       "       [-0.77064501, -0.22546634],\n",
       "       [-0.10213368,  0.06671466],\n",
       "       [ 0.2798728 , -0.19624824],\n",
       "       [ 1.90340032, -0.66373784],\n",
       "       [-0.77064501,  1.35231107],\n",
       "       [-1.7256612 , -0.60530164],\n",
       "       [-0.10213368,  0.12515086],\n",
       "       [ 0.2798728 , -0.31312064],\n",
       "       [ 1.04388575,  0.56342236],\n",
       "       [-0.96164825,  0.27124136],\n",
       "       [ 1.42589223,  0.35889566],\n",
       "       [ 0.18437118, -0.37155684],\n",
       "       [ 2.09440356, -1.04357314],\n",
       "       [-0.29313691,  1.11856627],\n",
       "       [-1.63015958,  0.06671466],\n",
       "       [-0.00663206,  0.03749656],\n",
       "       [ 0.08886956,  1.06013007],\n",
       "       [-0.10213368, -0.37155684],\n",
       "       [-1.15265148,  0.06671466],\n",
       "       [-0.29313691, -1.36497224],\n",
       "       [ 1.52139385,  1.11856627],\n",
       "       [-0.77064501, -1.54028085],\n",
       "       [ 0.08886956,  1.87823687],\n",
       "       [-0.86614663, -0.78061024],\n",
       "       [-0.48414015, -0.78061024],\n",
       "       [-0.29313691, -0.92670074],\n",
       "       [ 0.2798728 , -0.72217404],\n",
       "       [ 0.2798728 ,  0.06671466],\n",
       "       [ 0.08886956,  1.87823687],\n",
       "       [-1.05714987,  1.96589117],\n",
       "       [-1.63015958, -1.56949895],\n",
       "       [-1.15265148, -1.10200934],\n",
       "       [-0.67514339, -0.10859394],\n",
       "       [ 0.08886956,  0.09593276],\n",
       "       [ 0.2798728 ,  0.27124136],\n",
       "       [ 0.85288251, -0.57608354],\n",
       "       [ 0.2798728 , -1.16044554],\n",
       "       [-0.10213368,  0.68029476],\n",
       "       [ 2.09440356, -0.69295594],\n",
       "       [-1.2481531 , -1.39419034],\n",
       "       [-0.96164825, -0.95591884],\n",
       "       [-0.00663206, -0.42999304],\n",
       "       [-0.19763529, -0.45921114],\n",
       "       [-1.7256612 , -0.98513694],\n",
       "       [ 1.71239708,  1.00169387],\n",
       "       [ 0.18437118, -0.37155684],\n",
       "       [ 0.37537442,  1.11856627],\n",
       "       [-1.7256612 , -1.36497224],\n",
       "       [ 0.18437118, -0.13781204],\n",
       "       [ 0.85288251, -1.45262654],\n",
       "       [-1.91666444,  0.47576806],\n",
       "       [-0.29313691,  0.27124136],\n",
       "       [ 1.8078987 , -1.07279124],\n",
       "       [-0.38863853,  0.06671466],\n",
       "       [ 1.04388575, -0.89748264],\n",
       "       [-1.05714987, -1.13122744],\n",
       "       [-1.82116282,  0.00827846],\n",
       "       [ 0.08886956,  0.27124136],\n",
       "       [-1.15265148,  0.32967756],\n",
       "       [-1.2481531 ,  0.30045946],\n",
       "       [-0.96164825,  0.44654996],\n",
       "       [ 1.61689547, -0.89748264],\n",
       "       [ 1.13938737,  0.53420426],\n",
       "       [ 1.04388575,  0.53420426],\n",
       "       [ 1.33039061,  2.34572647],\n",
       "       [-0.29313691, -0.13781204],\n",
       "       [ 0.37537442, -0.45921114],\n",
       "       [-0.38863853, -0.78061024],\n",
       "       [-0.10213368, -0.51764734],\n",
       "       [ 0.94838413, -1.16044554],\n",
       "       [-0.86614663, -0.78061024],\n",
       "       [-0.19763529, -0.51764734],\n",
       "       [-1.05714987, -0.45921114],\n",
       "       [-1.15265148,  1.41074727]])"
      ]
     },
     "execution_count": 160,
     "metadata": {},
     "output_type": "execute_result"
    }
   ],
   "source": [
    "X_train"
   ]
  },
  {
   "cell_type": "code",
   "execution_count": 161,
   "metadata": {},
   "outputs": [],
   "source": [
    "#Fitting classifier to the training set"
   ]
  },
  {
   "cell_type": "code",
   "execution_count": 162,
   "metadata": {},
   "outputs": [],
   "source": [
    "from sklearn.naive_bayes import GaussianNB"
   ]
  },
  {
   "cell_type": "code",
   "execution_count": 163,
   "metadata": {},
   "outputs": [],
   "source": [
    "classifier=GaussianNB()"
   ]
  },
  {
   "cell_type": "code",
   "execution_count": 164,
   "metadata": {},
   "outputs": [
    {
     "data": {
      "text/plain": [
       "GaussianNB(priors=None, var_smoothing=1e-09)"
      ]
     },
     "execution_count": 164,
     "metadata": {},
     "output_type": "execute_result"
    }
   ],
   "source": [
    "classifier.fit(X_train,y_train)\n"
   ]
  },
  {
   "cell_type": "code",
   "execution_count": 165,
   "metadata": {},
   "outputs": [],
   "source": [
    "#predicting on top of model"
   ]
  },
  {
   "cell_type": "code",
   "execution_count": 166,
   "metadata": {},
   "outputs": [],
   "source": [
    "pred=classifier.predict(X_test)"
   ]
  },
  {
   "cell_type": "code",
   "execution_count": 167,
   "metadata": {},
   "outputs": [
    {
     "data": {
      "text/plain": [
       "array([1, 1, 1, 1, 1, 1, 1, 0, 1, 0, 1, 1, 1, 0, 1, 0, 1, 0, 0, 1, 1, 0,\n",
       "       1, 0, 1, 0, 1, 1, 1, 1, 1, 1, 0, 1, 1, 1, 1, 1, 1, 0], dtype=uint8)"
      ]
     },
     "execution_count": 167,
     "metadata": {},
     "output_type": "execute_result"
    }
   ],
   "source": [
    "pred"
   ]
  },
  {
   "cell_type": "code",
   "execution_count": 168,
   "metadata": {},
   "outputs": [],
   "source": [
    "from sklearn.metrics import accuracy_score"
   ]
  },
  {
   "cell_type": "code",
   "execution_count": 169,
   "metadata": {},
   "outputs": [],
   "source": [
    "acc=accuracy_score(pred,y_test)"
   ]
  },
  {
   "cell_type": "code",
   "execution_count": 170,
   "metadata": {},
   "outputs": [
    {
     "data": {
      "text/plain": [
       "50.0"
      ]
     },
     "execution_count": 170,
     "metadata": {},
     "output_type": "execute_result"
    }
   ],
   "source": [
    "acc*100\n"
   ]
  },
  {
   "cell_type": "code",
   "execution_count": 171,
   "metadata": {},
   "outputs": [],
   "source": [
    "from sklearn.metrics import confusion_matrix"
   ]
  },
  {
   "cell_type": "code",
   "execution_count": 151,
   "metadata": {},
   "outputs": [
    {
     "data": {
      "text/plain": [
       "array([[ 5, 14],\n",
       "       [ 6, 15]], dtype=int64)"
      ]
     },
     "execution_count": 151,
     "metadata": {},
     "output_type": "execute_result"
    }
   ],
   "source": [
    "confusion_matrix(y_test,pred)"
   ]
  },
  {
   "cell_type": "code",
   "execution_count": 174,
   "metadata": {},
   "outputs": [],
   "source": [
    "# Visulaising the training set result"
   ]
  },
  {
   "cell_type": "code",
   "execution_count": 173,
   "metadata": {},
   "outputs": [
    {
     "name": "stderr",
     "output_type": "stream",
     "text": [
      "'c' argument looks like a single numeric RGB or RGBA sequence, which should be avoided as value-mapping will have precedence in case its length matches with 'x' & 'y'.  Please use a 2-D array with a single row if you really want to specify the same RGB or RGBA value for all points.\n",
      "'c' argument looks like a single numeric RGB or RGBA sequence, which should be avoided as value-mapping will have precedence in case its length matches with 'x' & 'y'.  Please use a 2-D array with a single row if you really want to specify the same RGB or RGBA value for all points.\n"
     ]
    },
    {
     "data": {
      "image/png": "[encoded data removed]",
      "text/plain": [
       "<Figure size 432x288 with 1 Axes>"
      ]
     },
     "metadata": {
      "needs_background": "light"
     },
     "output_type": "display_data"
    },
    {
     "data": {
      "text/plain": [
       "<Figure size 1440x1280 with 0 Axes>"
      ]
     },
     "metadata": {},
     "output_type": "display_data"
    }
   ],
   "source": [
    "from matplotlib.colors import ListedColormap\n",
    "X_set, y_set = X_train, y_train\n",
    "X1, X2 = np.meshgrid(np.arange(start = X_set[:, 0].min() - 1, stop = \n",
    "X_set[:, 0].max() + 1, step = 0.01),\n",
    "np.arange(start = X_set[:, 1].min() - 1, stop = X_set[:, 1].max() + 1, step = 0.01))\n",
    "\n",
    "plt.contourf(X1, X2, classifier.predict(np.array([X1.ravel(), \n",
    "X2.ravel()]).T).reshape(X1.shape),\n",
    "         alpha = 0.75, cmap = ListedColormap(('red', 'green')))\n",
    "plt.xlim(X1.min(), X1.max())\n",
    "plt.ylim(X2.min(), X2.max())\n",
    "\n",
    "for i, j in enumerate(np.unique(y_set)):\n",
    "    plt.scatter(X_set[y_set == j, 0], X_set[y_set == j, 1],\n",
    "            c = ListedColormap(('red', 'green'))(i), label = j)\n",
    "\n",
    "plt.title('Naive Bayes (Training set)')\n",
    "plt.xlabel('Age')\n",
    "plt.ylabel('Estimated Salary')\n",
    "plt.legend()\n",
    "plt.show()\n",
    "fig=plt.figure(figsize=(18, 16), dpi= 80, facecolor='w', edgecolor='k')"
   ]
  },
  {
   "cell_type": "code",
   "execution_count": 175,
   "metadata": {},
   "outputs": [],
   "source": [
    "# Visulaising the test set result"
   ]
  },
  {
   "cell_type": "code",
   "execution_count": 176,
   "metadata": {},
   "outputs": [
    {
     "name": "stderr",
     "output_type": "stream",
     "text": [
      "'c' argument looks like a single numeric RGB or RGBA sequence, which should be avoided as value-mapping will have precedence in case its length matches with 'x' & 'y'.  Please use a 2-D array with a single row if you really want to specify the same RGB or RGBA value for all points.\n",
      "'c' argument looks like a single numeric RGB or RGBA sequence, which should be avoided as value-mapping will have precedence in case its length matches with 'x' & 'y'.  Please use a 2-D array with a single row if you really want to specify the same RGB or RGBA value for all points.\n"
     ]
    },
    {
     "data": {
      "image/png": "[encoded data removed]",
      "text/plain": [
       "<Figure size 432x288 with 1 Axes>"
      ]
     },
     "metadata": {
      "needs_background": "light"
     },
     "output_type": "display_data"
    }
   ],
   "source": [
    "from matplotlib.colors import ListedColormap\n",
    "X_set, y_set = X_train, y_train\n",
    "X1, X2 = np.meshgrid(np.arange(start = X_set[:, 0].min() - 1, stop = \n",
    "X_set[:, 0].max() + 1, step = 0.01),\n",
    "np.arange(start = X_set[:, 1].min() - 1, stop = X_set[:, 1].max() + 1, step = 0.01))\n",
    "\n",
    "plt.contourf(X1, X2, classifier.predict(np.array([X1.ravel(), \n",
    "X2.ravel()]).T).reshape(X1.shape),\n",
    "         alpha = 0.75, cmap = ListedColormap(('red', 'green')))\n",
    "plt.xlim(X1.min(), X1.max())\n",
    "plt.ylim(X2.min(), X2.max())\n",
    "\n",
    "for i, j in enumerate(np.unique(y_set)):\n",
    "    plt.scatter(X_set[y_set == j, 0], X_set[y_set == j, 1],\n",
    "            c = ListedColormap(('red', 'green'))(i), label = j)\n",
    "\n",
    "plt.title('Naive Bayes (Test set)')\n",
    "plt.xlabel('Age')\n",
    "plt.ylabel('Estimated Salary')\n",
    "plt.legend()\n",
    "plt.show()"
   ]
  },
  {
   "cell_type": "code",
   "execution_count": 185,
   "metadata": {},
   "outputs": [],
   "source": [
    "acc=accuracy_score(pred,y_test)"
   ]
  },
  {
   "cell_type": "code",
   "execution_count": 186,
   "metadata": {},
   "outputs": [
    {
     "data": {
      "text/plain": [
       "50.0"
      ]
     },
     "execution_count": 186,
     "metadata": {},
     "output_type": "execute_result"
    }
   ],
   "source": [
    "acc*100"
   ]
  },
  {
   "cell_type": "code",
   "execution_count": null,
   "metadata": {},
   "outputs": [],
   "source": []
  }
 ],
 "metadata": {
  "kernelspec": {
   "display_name": "Python 3",
   "language": "python",
   "name": "python3"
  },
  "language_info": {
   "codemirror_mode": {
    "name": "ipython",
    "version": 3
   },
   "file_extension": ".py",
   "mimetype": "text/x-python",
   "name": "python",
   "nbconvert_exporter": "python",
   "pygments_lexer": "ipython3",
   "version": "3.7.3"
  }
 },
 "nbformat": 4,
 "nbformat_minor": 2
}
